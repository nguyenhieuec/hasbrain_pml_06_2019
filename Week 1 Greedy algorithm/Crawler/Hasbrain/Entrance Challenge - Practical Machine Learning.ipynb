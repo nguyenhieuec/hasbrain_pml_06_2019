{
    "nbformat": 4,
    "nbformat_minor": 0,
    "metadata": {
        "colab": {
            "name": "Entrance Challenge - Practical Machine Learning.ipynb",
            "version": "0.3.2",
            "provenance": []
        },
        "kernelspec": {
            "name": "python3",
            "display_name": "Python 3"
        }
    },
    "cells": [
        {
            "metadata": {
                "id": "5d40594c-4eb2-400a-a900-eec5edddbae4",
                "colab_type": "text"
            },
            "cell_type": "markdown",
            "source": [
                "## Welcome to HasBrain entrance challenge for the Practical Machine Learning Course!\n\n",
                "## What do we expect from our future learners through this challenge:\n\n",
                "- Our learner should not give up\n",
                "- Our learner should know what and where to ask\n",
                "- Our learner should be dare to try, fail and learn from your failures\n\n",
                "HasBrain expects our learners to come with the right attitude, that is the only way that we can help you to go far.\n\n",
                "# Important\n\n",
                "# You are suggested (but not limited) to work on these steps\n\n",
                "We are looking for learners who are curious about solving problems with data. This is a course where we guide you towards the mindset of problem solving. Knowledge to us is a means to the end. You can get the knowledge widely available on the internet. In this test, we want to find out your desire to learn and solve problems with data by testing on your ability to explore insights of this data using common techniques and libraries (Numpy, Pandas, Matplotlib, Scikit learn and so on)\n\n",
                "## You can give it a try in the code cells below. But please start your analysis by opening a new notebook\n\n",
                "## 1 - Mount the dataset\n\n"
            ]
        },
        {
            "metadata": {
                "id": "1214a106-be9f-482c-9f64-8dfdb7d6e599",
                "colab_type": "code",
                "colab": {}
            },
            "source": [
                "'''\n",
                "Dataset [Fundamental of Deep Learning - Entrance Challenge] is mounted\n",
                "and stored in [input/fundamental-of-deep-learning---entrance-challenge-5c9713ceeb867500189b9ec6] of current machine.\n",
                "\n",
                "Please check your just-mounted dataset by running\n",
                "bellow command:\n",
                "'''\n",
                "\n",
                "import os\n",
                "data_path_ec6 = \"input/fundamental-of-deep-learning-entrance-challenge-5c9713ceeb867500189b9ec6\"\n",
                "# Use \"data_path_ec6\" as the list of items on this dataset\n",
                "\n",
                "os.listdir(data_path_ec6)"
            ],
            "execution_count": 0,
            "outputs": []
        },
        {
            "metadata": {
                "id": "3c9a6040-fa12-4d42-977e-abe2343c2acd",
                "colab_type": "text"
            },
            "cell_type": "markdown",
            "source": [
                "\n\n",
                "### 2 - Load the dataset in a dataframe\n\n"
            ]
        },
        {
            "metadata": {
                "id": "a00d84e7-e075-44a3-b281-b4e797289159",
                "colab_type": "code",
                "colab": {}
            },
            "source": [
                ""
            ],
            "execution_count": 0,
            "outputs": []
        },
        {
            "metadata": {
                "id": "18d4b683-83de-4f87-9a8b-c173327f8b87",
                "colab_type": "text"
            },
            "cell_type": "markdown",
            "source": [
                "### \n\n",
                "### 3 - Visualize the dataset\n\n"
            ]
        },
        {
            "metadata": {
                "id": "0cbfe856-7206-478b-925b-6ff62594047d",
                "colab_type": "code",
                "colab": {}
            },
            "source": [
                ""
            ],
            "execution_count": 0,
            "outputs": []
        },
        {
            "metadata": {
                "id": "b4959e79-b6ed-4018-88ec-dfcfa5a9c7e5",
                "colab_type": "text"
            },
            "cell_type": "markdown",
            "source": [
                "\n\n",
                "### 4 - List out inconsistencies, assumptions in the data and form hypothesis on what techniques you want to try out. It does not matter if it you know exactly if the method works.\n\n"
            ]
        },
        {
            "metadata": {
                "id": "406c6879-32b2-4a88-9e64-c4bd1c64968a",
                "colab_type": "code",
                "colab": {}
            },
            "source": [
                ""
            ],
            "execution_count": 0,
            "outputs": []
        },
        {
            "metadata": {
                "id": "35fa7d54-47c4-4e52-93fa-b30f6c8e063d",
                "colab_type": "text"
            },
            "cell_type": "markdown",
            "source": [
                "### \n\n",
                "### 5 - Pick the first algorithm you want to try and state the reason why you want to start with that.\n\n"
            ]
        },
        {
            "metadata": {
                "id": "56cf533e-360b-4821-8af8-86c587151c4c",
                "colab_type": "code",
                "colab": {}
            },
            "source": [
                ""
            ],
            "execution_count": 0,
            "outputs": []
        },
        {
            "metadata": {
                "id": "c6193f73-c03e-42b3-9725-bb18b6a0cd42",
                "colab_type": "text"
            },
            "cell_type": "markdown",
            "source": [
                "### \n\n",
                "### 6 - Clean the data for the algorithm\n\n"
            ]
        },
        {
            "metadata": {
                "id": "f7c3cad1-6413-4979-9765-cccc8740a28a",
                "colab_type": "code",
                "colab": {}
            },
            "source": [
                ""
            ],
            "execution_count": 0,
            "outputs": []
        },
        {
            "metadata": {
                "id": "bb4e83cc-568a-4e35-ba10-22f5c69841fa",
                "colab_type": "text"
            },
            "cell_type": "markdown",
            "source": [
                "### \n\n",
                "### 7 - Analyze the results. Please state clearly how you will like to decide if this results are correct. Suggest how you will like to carry out AB test on this set of results in the code comments.\n\n"
            ]
        },
        {
            "metadata": {
                "id": "a375987a-c07f-45a1-b6a8-695ea9194f5d",
                "colab_type": "code",
                "colab": {}
            },
            "source": [
                ""
            ],
            "execution_count": 0,
            "outputs": []
        },
        {
            "metadata": {
                "id": "65347ee3-9e9f-43ec-8b4b-fb2878944749",
                "colab_type": "text"
            },
            "cell_type": "markdown",
            "source": [
                "\n\n",
                "\n\n"
            ]
        }
    ]
}