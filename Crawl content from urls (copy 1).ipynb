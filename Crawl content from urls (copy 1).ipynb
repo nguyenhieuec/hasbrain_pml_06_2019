{
 "cells": [
  {
   "cell_type": "markdown",
   "metadata": {
    "colab_type": "text",
    "id": "56f9f70d-9fd6-4cca-9458-54d2798be73f"
   },
   "source": [
    "# Get main content of news\n",
    "\n",
    "To get main content of news, we will use a library called newspaper:\n",
    "\n",
    "Firstly, install the library by running the below code:\n",
    "\n"
   ]
  },
  {
   "cell_type": "code",
   "execution_count": 1,
   "metadata": {
    "colab": {},
    "colab_type": "code",
    "id": "085db20b-0fc2-45a8-a1d2-7a2efaf24760"
   },
   "outputs": [
    {
     "name": "stdout",
     "output_type": "stream",
     "text": [
      "  % Total    % Received % Xferd  Average Speed   Time    Time     Time  Current\n",
      "                                 Dload  Upload   Total   Spent    Left  Speed\n",
      "100   657  100   657    0     0   1506      0 --:--:-- --:--:-- --:--:--  1506\n",
      "Downloading \"brown\"\n",
      "[nltk_data] Downloading package brown to\n",
      "[nltk_data]     /home/nguyenhieuec/nltk_data...\n",
      "[nltk_data]   Package brown is already up-to-date!\n",
      "Downloading \"punkt\"\n",
      "[nltk_data] Downloading package punkt to\n",
      "[nltk_data]     /home/nguyenhieuec/nltk_data...\n",
      "[nltk_data]   Package punkt is already up-to-date!\n",
      "Downloading \"maxent_treebank_pos_tagger\"\n",
      "[nltk_data] Downloading package maxent_treebank_pos_tagger to\n",
      "[nltk_data]     /home/nguyenhieuec/nltk_data...\n",
      "[nltk_data]   Package maxent_treebank_pos_tagger is already up-to-\n",
      "[nltk_data]       date!\n",
      "Downloading \"movie_reviews\"\n",
      "[nltk_data] Downloading package movie_reviews to\n",
      "[nltk_data]     /home/nguyenhieuec/nltk_data...\n",
      "[nltk_data]   Unzipping corpora/movie_reviews.zip.\n",
      "Downloading \"wordnet\"\n",
      "[nltk_data] Downloading package wordnet to\n",
      "[nltk_data]     /home/nguyenhieuec/nltk_data...\n",
      "[nltk_data]   Unzipping corpora/wordnet.zip.\n",
      "Downloading \"stopwords\"\n",
      "[nltk_data] Downloading package stopwords to\n",
      "[nltk_data]     /home/nguyenhieuec/nltk_data...\n",
      "[nltk_data]   Unzipping corpora/stopwords.zip.\n",
      "Finished.\n",
      "Requirement already satisfied: newspaper3k in /home/nguyenhieuec/anaconda3/lib/python3.7/site-packages (0.2.8)\n",
      "Requirement already satisfied: requests>=2.10.0 in /home/nguyenhieuec/anaconda3/lib/python3.7/site-packages (from newspaper3k) (2.21.0)\n",
      "Requirement already satisfied: tldextract>=2.0.1 in /home/nguyenhieuec/anaconda3/lib/python3.7/site-packages (from newspaper3k) (2.2.1)\n",
      "Requirement already satisfied: jieba3k>=0.35.1 in /home/nguyenhieuec/anaconda3/lib/python3.7/site-packages (from newspaper3k) (0.35.1)\n",
      "Requirement already satisfied: cssselect>=0.9.2 in /home/nguyenhieuec/anaconda3/lib/python3.7/site-packages (from newspaper3k) (1.0.3)\n",
      "Requirement already satisfied: feedfinder2>=0.0.4 in /home/nguyenhieuec/anaconda3/lib/python3.7/site-packages (from newspaper3k) (0.0.4)\n",
      "Requirement already satisfied: nltk>=3.2.1 in /home/nguyenhieuec/anaconda3/lib/python3.7/site-packages (from newspaper3k) (3.4)\n",
      "Requirement already satisfied: lxml>=3.6.0 in /home/nguyenhieuec/anaconda3/lib/python3.7/site-packages (from newspaper3k) (4.2.5)\n",
      "Requirement already satisfied: Pillow>=3.3.0 in /home/nguyenhieuec/anaconda3/lib/python3.7/site-packages (from newspaper3k) (5.3.0)\n",
      "Requirement already satisfied: feedparser>=5.2.1 in /home/nguyenhieuec/anaconda3/lib/python3.7/site-packages (from newspaper3k) (5.2.1)\n",
      "Requirement already satisfied: tinysegmenter==0.3 in /home/nguyenhieuec/anaconda3/lib/python3.7/site-packages (from newspaper3k) (0.3)\n",
      "Requirement already satisfied: beautifulsoup4>=4.4.1 in /home/nguyenhieuec/anaconda3/lib/python3.7/site-packages (from newspaper3k) (4.6.3)\n",
      "Requirement already satisfied: PyYAML>=3.11 in /home/nguyenhieuec/anaconda3/lib/python3.7/site-packages (from newspaper3k) (3.13)\n",
      "Requirement already satisfied: python-dateutil>=2.5.3 in /home/nguyenhieuec/anaconda3/lib/python3.7/site-packages (from newspaper3k) (2.7.5)\n",
      "Requirement already satisfied: chardet<3.1.0,>=3.0.2 in /home/nguyenhieuec/anaconda3/lib/python3.7/site-packages (from requests>=2.10.0->newspaper3k) (3.0.4)\n",
      "Requirement already satisfied: certifi>=2017.4.17 in /home/nguyenhieuec/anaconda3/lib/python3.7/site-packages (from requests>=2.10.0->newspaper3k) (2018.11.29)\n",
      "Requirement already satisfied: urllib3<1.25,>=1.21.1 in /home/nguyenhieuec/anaconda3/lib/python3.7/site-packages (from requests>=2.10.0->newspaper3k) (1.24.1)\n",
      "Requirement already satisfied: idna<2.9,>=2.5 in /home/nguyenhieuec/anaconda3/lib/python3.7/site-packages (from requests>=2.10.0->newspaper3k) (2.8)\n",
      "Requirement already satisfied: requests-file>=1.4 in /home/nguyenhieuec/anaconda3/lib/python3.7/site-packages (from tldextract>=2.0.1->newspaper3k) (1.4.3)\n",
      "Requirement already satisfied: setuptools in /home/nguyenhieuec/anaconda3/lib/python3.7/site-packages (from tldextract>=2.0.1->newspaper3k) (40.6.3)\n",
      "Requirement already satisfied: six in /home/nguyenhieuec/anaconda3/lib/python3.7/site-packages (from feedfinder2>=0.0.4->newspaper3k) (1.12.0)\n",
      "Requirement already satisfied: singledispatch in /home/nguyenhieuec/anaconda3/lib/python3.7/site-packages (from nltk>=3.2.1->newspaper3k) (3.4.0.3)\n"
     ]
    }
   ],
   "source": [
    "!curl https://raw.githubusercontent.com/codelucas/newspaper/master/download_corpora.py | python3\n",
    "!pip install newspaper3k"
   ]
  },
  {
   "cell_type": "markdown",
   "metadata": {
    "colab_type": "text",
    "id": "f58eff04-30bf-4588-bcb4-45d0d25f5e13"
   },
   "source": [
    "Import the library\n",
    "\n"
   ]
  },
  {
   "cell_type": "code",
   "execution_count": 2,
   "metadata": {
    "colab": {},
    "colab_type": "code",
    "id": "a260188b-f2ef-4882-8c63-6208dad2675c"
   },
   "outputs": [],
   "source": [
    "from newspaper import fulltext\n",
    "import requests"
   ]
  },
  {
   "cell_type": "markdown",
   "metadata": {
    "colab_type": "text",
    "id": "c93b61f5-45b4-41a9-9f09-e0f82509deb5"
   },
   "source": [
    "Try to get content of the below link by\n",
    "\n"
   ]
  },
  {
   "cell_type": "code",
   "execution_count": 3,
   "metadata": {
    "colab": {},
    "colab_type": "code",
    "id": "c0d749af-163d-46a5-93a7-7ce9c183e03d"
   },
   "outputs": [
    {
     "data": {
      "text/plain": [
       "\"Canada's privacy commissioner says he will take Facebook (NASDAQ:FB) to court after finding the company's lax practices allowed personal information to be used for political purposes.\\n\\nThe report said it uncovered major shortcomings in Facebook’s procedures and that the company had rebuffed their findings and recommendations.\\n\\nThe Canadian probe comes as Ireland’s privacy regulator says it is investigating Facebook over a recent revelation that it had left hundreds of millions of user passwords exposed.\""
      ]
     },
     "execution_count": 3,
     "metadata": {},
     "output_type": "execute_result"
    }
   ],
   "source": [
    "url = \"https://seekingalpha.com/news/3454711-facebook-broke-privacy-laws-exposing-user-data-canada-says\"\n",
    "html = requests.get(url).text\n",
    "text = fulltext(html)\n",
    "text"
   ]
  },
  {
   "cell_type": "markdown",
   "metadata": {
    "colab_type": "text",
    "id": "c4c6acbe-dab4-4d85-858d-e6fb902ecbed"
   },
   "source": [
    "It's really easy, isn't it? However, when you crawl thousands of articles, the\n",
    "\n",
    "# Adding proxies\n",
    "\n",
    "The purpose of adding proxies to the request is to get the content indirectly via other IPs. You will change the proxy in each time you call request, the seekingalpha will be not able to detect and ban your IP anymore.\n",
    "\n",
    "## Getting proxies\n",
    "\n",
    "How can we get the list of free proxies?\n",
    "\n",
    "To get the list of proxies, we need to get the html of the page and parse it with BeautifulSoup library. Firstly, let's install and import essential libraries\n",
    "\n"
   ]
  },
  {
   "cell_type": "code",
   "execution_count": 4,
   "metadata": {
    "colab": {},
    "colab_type": "code",
    "id": "a4cd5ac4-7d39-4a4b-a227-39e3db6689bc"
   },
   "outputs": [
    {
     "name": "stdout",
     "output_type": "stream",
     "text": [
      "Requirement already satisfied: lxml in /home/nguyenhieuec/anaconda3/lib/python3.7/site-packages (4.2.5)\r\n"
     ]
    }
   ],
   "source": [
    "!pip install lxml\n",
    "import random\n",
    "\n",
    "import requests\n",
    "from bs4 import BeautifulSoup"
   ]
  },
  {
   "cell_type": "markdown",
   "metadata": {
    "colab_type": "text",
    "id": "4d9edbaa-302f-4800-9852-0a64532a6dfa"
   },
   "source": [
    "The following function retrieves a list of proxies, please finish it by following instructions:\n",
    "\n"
   ]
  },
  {
   "cell_type": "code",
   "execution_count": 5,
   "metadata": {
    "colab": {},
    "colab_type": "code",
    "id": "7f940f2b-76c1-436d-af81-ad9ea7447660"
   },
   "outputs": [],
   "source": [
    "def get_proxies():\n",
    "### START CODE HERE\n",
    "# Create a GET request with url is https://free-proxy-list.net/\n",
    "# and header User-Agent: Mozilla/5.0\n",
    "    res = requests.get('https://free-proxy-list.net/', headers={'User-Agent':'Mozilla/5.0'})\n",
    "\n",
    "    # Create a BeautifilSoup object with html from 'res'\n",
    "    # and using 'lxml' as HTML parser\n",
    "    soup = BeautifulSoup(res.text,\"lxml\")\n",
    "\n",
    "    proxies = []\n",
    "\n",
    "    # Get all rows by select \"tbody tr\"\n",
    "    rows = soup.select(\"tbody tr\")\n",
    "    for row in rows:\n",
    "    # Select all row values by \"td\"\n",
    "        values = row.select(\"td\")\n",
    "        # Build the proxy with the syntax <values[0].text>:<values[1].text>\n",
    "        # then append to 'proxies'\n",
    "        proxy = values[0].text + \":\" + values[1].text\n",
    "        proxies.append(proxy)\n",
    "\n",
    "    ### END CODE HERE\n",
    "    return proxies"
   ]
  },
  {
   "cell_type": "markdown",
   "metadata": {
    "colab_type": "text",
    "id": "9d20a1f1-6497-4dbb-a811-1affcb67ae0c"
   },
   "source": [
    "Try getting the list of proxies with the above function\n",
    "\n"
   ]
  },
  {
   "cell_type": "code",
   "execution_count": 6,
   "metadata": {
    "colab": {},
    "colab_type": "code",
    "id": "242dfff5-2552-40b5-bb5d-98fd158d5128"
   },
   "outputs": [
    {
     "data": {
      "text/plain": [
       "['54.38.110.35:47640',\n",
       " '117.242.147.85:47000',\n",
       " '170.80.49.21:49409',\n",
       " '91.205.146.25:37501',\n",
       " '109.167.113.9:51379',\n",
       " '138.0.89.221:36376',\n",
       " '91.225.109.186:60188',\n",
       " '93.77.121.45:54799',\n",
       " '177.128.42.25:58103',\n",
       " '80.188.212.2:44577',\n",
       " '190.56.24.78:61491',\n",
       " '103.88.234.58:34515',\n",
       " '176.192.8.6:60630',\n",
       " '164.77.175.246:30957',\n",
       " '5.58.149.229:46759',\n",
       " '109.101.139.106:32341',\n",
       " '172.104.180.249:3128',\n",
       " '3.14.52.91:3128',\n",
       " '93.186.200.200:80',\n",
       " '159.203.118.239:8080',\n",
       " '78.41.174.197:57649',\n",
       " '80.91.17.113:41258',\n",
       " '213.21.18.18:57362',\n",
       " '119.82.252.71:55412',\n",
       " '35.178.207.201:80',\n",
       " '192.99.70.52:3128',\n",
       " '190.90.143.245:44127',\n",
       " '128.199.252.137:8888',\n",
       " '58.123.205.81:80',\n",
       " '157.230.249.208:8080',\n",
       " '176.197.145.254:49529',\n",
       " '188.32.20.79:8197',\n",
       " '109.248.62.207:49689',\n",
       " '95.47.116.129:49414',\n",
       " '159.65.132.22:8080',\n",
       " '212.73.77.200:54854',\n",
       " '197.211.38.187:31874',\n",
       " '46.229.206.135:54970',\n",
       " '197.210.130.250:60772',\n",
       " '159.89.195.152:3128',\n",
       " '96.9.83.85:49127',\n",
       " '47.254.69.158:9999',\n",
       " '185.144.158.152:80',\n",
       " '165.22.14.234:8080',\n",
       " '217.61.121.58:80',\n",
       " '128.199.98.232:3128',\n",
       " '154.66.154.131:80',\n",
       " '145.239.21.75:80',\n",
       " '35.198.22.102:80',\n",
       " '74.208.175.180:8080',\n",
       " '117.102.94.148:54511',\n",
       " '80.90.63.121:3128',\n",
       " '159.65.224.101:80',\n",
       " '170.239.86.162:8080',\n",
       " '139.162.25.246:3128',\n",
       " '5.140.233.65:60437',\n",
       " '129.205.137.205:35076',\n",
       " '176.36.164.240:39647',\n",
       " '158.255.249.58:55492',\n",
       " '114.6.130.203:10000',\n",
       " '190.12.95.170:47754',\n",
       " '162.220.166.107:80',\n",
       " '139.99.219.132:80',\n",
       " '185.103.164.20:41258',\n",
       " '203.99.157.126:23500',\n",
       " '80.234.118.171:8080',\n",
       " '45.63.104.17:8080',\n",
       " '134.209.170.22:3128',\n",
       " '186.46.136.70:33729',\n",
       " '43.224.136.183:80',\n",
       " '193.38.139.227:80',\n",
       " '138.197.204.55:3128',\n",
       " '51.15.221.37:3128',\n",
       " '51.15.223.84:3128',\n",
       " '134.209.0.195:8080',\n",
       " '51.15.233.183:3128',\n",
       " '182.52.51.154:47709',\n",
       " '125.26.7.115:30012',\n",
       " '117.197.118.98:31499',\n",
       " '123.108.201.6:61280',\n",
       " '79.104.28.46:35405',\n",
       " '134.119.214.195:8080',\n",
       " '156.239.14.52:6604',\n",
       " '114.130.92.17:60900',\n",
       " '37.17.10.150:36204',\n",
       " '50.3.88.67:80',\n",
       " '181.214.3.72:80',\n",
       " '196.17.228.59:80',\n",
       " '185.158.104.146:80',\n",
       " '185.158.118.129:80',\n",
       " '182.16.181.90:54944',\n",
       " '71.62.138.19:80',\n",
       " '94.245.105.90:80',\n",
       " '79.135.81.45:57470',\n",
       " '94.43.142.190:58365',\n",
       " '195.138.82.198:41423',\n",
       " '5.59.105.17:32736',\n",
       " '1.179.206.201:46760',\n",
       " '182.54.160.233:37177',\n",
       " '185.129.197.11:8080',\n",
       " '176.117.79.18:58712',\n",
       " '31.131.67.14:8080',\n",
       " '212.13.98.62:61716',\n",
       " '36.66.151.29:42414',\n",
       " '138.219.71.74:52688',\n",
       " '184.160.96.106:51501',\n",
       " '46.40.37.141:23500',\n",
       " '212.39.83.156:32286',\n",
       " '191.101.114.191:80',\n",
       " '50.3.196.145:80',\n",
       " '45.13.228.129:80',\n",
       " '191.101.108.228:80',\n",
       " '197.234.45.5:8083',\n",
       " '191.101.106.183:80',\n",
       " '181.214.1.8:80',\n",
       " '191.101.113.141:80',\n",
       " '45.13.228.232:80',\n",
       " '191.101.107.234:80',\n",
       " '196.17.228.12:80',\n",
       " '103.120.152.29:59068',\n",
       " '196.17.228.71:80',\n",
       " '191.101.125.178:80',\n",
       " '191.101.114.220:80',\n",
       " '118.173.232.75:46081',\n",
       " '103.192.168.117:23500',\n",
       " '191.101.114.216:80',\n",
       " '50.3.196.248:80',\n",
       " '185.158.133.177:80',\n",
       " '35.198.69.233:80',\n",
       " '181.214.1.84:80',\n",
       " '191.101.113.197:80',\n",
       " '50.3.89.58:80',\n",
       " '191.101.127.236:80',\n",
       " '196.17.228.244:80',\n",
       " '50.3.196.170:80',\n",
       " '194.114.137.29:6575',\n",
       " '103.81.13.153:57803',\n",
       " '118.175.93.94:30613',\n",
       " '201.62.56.49:51520',\n",
       " '177.152.53.1:57409',\n",
       " '92.255.194.86:37211',\n",
       " '109.86.225.33:41336',\n",
       " '95.161.231.10:32189',\n",
       " '45.115.175.137:48756',\n",
       " '209.80.12.178:80',\n",
       " '114.108.181.130:50589',\n",
       " '50.3.196.141:80',\n",
       " '185.158.134.153:80',\n",
       " '185.158.133.149:80',\n",
       " '185.158.119.159:80',\n",
       " '190.152.37.90:8888',\n",
       " '196.17.228.202:80',\n",
       " '181.214.3.53:80',\n",
       " '50.3.89.135:80',\n",
       " '50.3.88.63:80',\n",
       " '103.21.161.105:6666',\n",
       " '181.214.3.4:80',\n",
       " '181.214.3.85:80',\n",
       " '185.158.149.171:80',\n",
       " '45.13.228.176:80',\n",
       " '194.114.137.83:6575',\n",
       " '50.3.196.230:80',\n",
       " '185.158.105.186:80',\n",
       " '103.106.34.65:54820',\n",
       " '50.3.89.115:80',\n",
       " '115.178.27.125:59178',\n",
       " '27.72.61.48:48455',\n",
       " '80.68.76.170:48026',\n",
       " '155.0.181.254:57722',\n",
       " '118.174.232.106:50491',\n",
       " '116.0.2.162:37079',\n",
       " '151.106.10.51:1080',\n",
       " '35.246.211.162:80',\n",
       " '125.165.179.254:39804',\n",
       " '187.73.68.14:53281',\n",
       " '154.119.59.41:40562',\n",
       " '103.75.162.68:48940',\n",
       " '151.106.10.55:8080',\n",
       " '31.128.14.182:30309',\n",
       " '194.242.98.254:60281',\n",
       " '47.252.5.147:3128',\n",
       " '93.93.61.93:53281',\n",
       " '114.129.23.26:8080',\n",
       " '134.119.207.10:8080',\n",
       " '163.172.134.174:3128',\n",
       " '194.8.146.167:58308',\n",
       " '27.147.250.114:45748',\n",
       " '91.214.240.19:41667',\n",
       " '103.216.82.50:53281',\n",
       " '103.35.204.11:3128',\n",
       " '46.102.73.244:53281',\n",
       " '110.74.216.216:53495',\n",
       " '58.84.164.225:53281',\n",
       " '182.53.197.202:40087',\n",
       " '87.117.3.129:3128',\n",
       " '41.67.135.4:8080',\n",
       " '195.191.250.38:3128',\n",
       " '118.174.232.60:34772',\n",
       " '159.255.167.28:55492',\n",
       " '186.224.94.6:48957',\n",
       " '181.52.114.30:32400',\n",
       " '160.2.52.234:8080',\n",
       " '103.53.111.67:32819',\n",
       " '156.239.12.240:6604',\n",
       " '197.234.44.153:8083',\n",
       " '159.65.133.19:80',\n",
       " '156.239.12.135:6604',\n",
       " '156.239.12.155:6604',\n",
       " '185.158.107.169:80',\n",
       " '103.108.90.18:60381',\n",
       " '191.101.106.148:80',\n",
       " '185.158.150.149:80',\n",
       " '103.80.238.205:53281',\n",
       " '50.3.88.94:80',\n",
       " '191.101.108.166:80',\n",
       " '50.3.88.60:80',\n",
       " '185.158.105.147:80',\n",
       " '191.101.114.183:80',\n",
       " '46.99.152.230:8888',\n",
       " '124.41.211.153:37381',\n",
       " '186.159.2.249:38763',\n",
       " '194.242.98.253:33364',\n",
       " '176.60.208.30:55379',\n",
       " '24.227.171.10:53281',\n",
       " '14.162.145.116:57451',\n",
       " '185.32.229.199:3128',\n",
       " '89.201.7.115:61168',\n",
       " '185.82.200.189:8080',\n",
       " '95.47.116.128:56792',\n",
       " '117.74.113.45:34155',\n",
       " '37.235.71.31:53446',\n",
       " '222.165.214.98:44936',\n",
       " '103.138.97.6:8080',\n",
       " '86.100.77.210:53281',\n",
       " '176.215.237.190:34981',\n",
       " '103.109.57.1:8080',\n",
       " '186.159.2.241:43459',\n",
       " '77.120.137.9:53987',\n",
       " '188.26.3.152:44905',\n",
       " '46.201.249.7:51137',\n",
       " '91.205.218.33:80',\n",
       " '23.92.53.159:80',\n",
       " '103.240.161.107:57893',\n",
       " '89.121.211.242:38636',\n",
       " '40.91.214.91:80',\n",
       " '213.74.123.108:51532',\n",
       " '113.254.44.242:8197',\n",
       " '177.23.104.38:44459',\n",
       " '5.58.200.229:30448',\n",
       " '95.154.159.119:60773',\n",
       " '91.135.154.62:34352',\n",
       " '103.216.82.18:6666',\n",
       " '122.152.4.124:3128',\n",
       " '109.87.45.248:34823',\n",
       " '1.20.99.44:32119',\n",
       " '213.216.48.9:42370',\n",
       " '191.7.210.162:33760',\n",
       " '125.26.6.98:32385',\n",
       " '113.193.235.138:38595',\n",
       " '213.163.49.223:47779',\n",
       " '185.16.105.178:53281',\n",
       " '193.193.240.37:37239',\n",
       " '121.170.201.55:80',\n",
       " '45.13.228.137:80',\n",
       " '181.214.3.24:80',\n",
       " '191.101.108.242:80',\n",
       " '156.239.12.115:6604',\n",
       " '185.158.107.179:80',\n",
       " '191.101.127.194:80',\n",
       " '196.17.228.91:80',\n",
       " '191.101.127.233:80',\n",
       " '45.13.228.63:80',\n",
       " '50.3.88.20:80',\n",
       " '196.17.228.106:80',\n",
       " '185.158.105.175:80',\n",
       " '50.3.89.152:80',\n",
       " '185.158.118.174:80',\n",
       " '185.158.107.138:80',\n",
       " '202.182.55.30:53281',\n",
       " '191.101.127.204:80',\n",
       " '185.158.133.174:80',\n",
       " '156.239.12.255:6604',\n",
       " '191.101.107.193:80',\n",
       " '103.247.217.226:54441',\n",
       " '45.73.0.118:49943',\n",
       " '187.17.145.237:30279',\n",
       " '103.254.167.74:60424',\n",
       " '115.124.75.226:53990',\n",
       " '185.132.133.188:8080',\n",
       " '5.58.167.58:40783',\n",
       " '190.53.46.50:47538',\n",
       " '196.2.14.250:45477',\n",
       " '80.251.48.215:45157',\n",
       " '185.132.178.203:1080',\n",
       " '156.239.7.175:6604',\n",
       " '185.132.133.214:1080',\n",
       " '190.181.113.213:53281',\n",
       " '123.49.51.90:40881',\n",
       " '176.98.75.120:44680',\n",
       " '103.204.82.13:34474']"
      ]
     },
     "execution_count": 6,
     "metadata": {},
     "output_type": "execute_result"
    }
   ],
   "source": [
    "get_proxies()"
   ]
  },
  {
   "cell_type": "markdown",
   "metadata": {
    "colab_type": "text",
    "id": "687d74d7-7bb4-4934-a09b-4bf76d1a2ae7"
   },
   "source": [
    "## Adding proxies to request\n",
    "\n",
    "After getting the list of proxies, we will pick a random proxy and add it to the request we call:\n",
    "\n"
   ]
  },
  {
   "cell_type": "code",
   "execution_count": 7,
   "metadata": {
    "colab": {},
    "colab_type": "code",
    "id": "380ad264-41a8-4fa6-861f-6dcff3a78135"
   },
   "outputs": [
    {
     "data": {
      "text/plain": [
       "\"Canada's privacy commissioner says he will take Facebook (NASDAQ:FB) to court after finding the company's lax practices allowed personal information to be used for political purposes.\\n\\nThe report said it uncovered major shortcomings in Facebook’s procedures and that the company had rebuffed their findings and recommendations.\\n\\nThe Canadian probe comes as Ireland’s privacy regulator says it is investigating Facebook over a recent revelation that it had left hundreds of millions of user passwords exposed.\""
      ]
     },
     "execution_count": 7,
     "metadata": {},
     "output_type": "execute_result"
    }
   ],
   "source": [
    "# Url to get content\n",
    "url = \"https://seekingalpha.com/news/3454711-facebook-broke-privacy-laws-exposing-user-data-canada-says\"\n",
    "# Get list of proxies\n",
    "proxies = get_proxies()\n",
    "# Pick a random proxy\n",
    "proxy = proxies[random.randint(0, len(proxies)-1)]\n",
    "# Build proxy dictionary\n",
    "proxy_dict = {\n",
    "\"http\": \"http://\"+proxy,\n",
    "\"https\": \"https://\"+proxy\n",
    "}\n",
    "# Request with proxy\n",
    "html = requests.get(url, headers={'User-Agent':'Mozilla/5.0'}, proxies=proxy_dict).text\n",
    "text = fulltext(html)\n",
    "text"
   ]
  },
  {
   "cell_type": "markdown",
   "metadata": {
    "colab_type": "text",
    "id": "5de91c02-bb9e-4ee6-9fc3-9add6ae3c602"
   },
   "source": [
    "The proxies we got are all free, so it will not be stable (it usually throws error), we need to check the status of request to know whether it's success or not. When it get the status 200 like the below example, the request is success, otherwise you need to retry with another proxy:\n",
    "\n"
   ]
  },
  {
   "cell_type": "code",
   "execution_count": 8,
   "metadata": {
    "colab": {},
    "colab_type": "code",
    "id": "6eec146a-dcb6-4515-8922-28eae6e9032a"
   },
   "outputs": [
    {
     "data": {
      "text/plain": [
       "200"
      ]
     },
     "execution_count": 8,
     "metadata": {},
     "output_type": "execute_result"
    }
   ],
   "source": [
    "requests.get(url, headers={'User-Agent':'Mozilla/5.0'}).status_code"
   ]
  },
  {
   "cell_type": "markdown",
   "metadata": {
    "colab_type": "text",
    "id": "6a80a193-e783-457d-9b16-c06409bc5251"
   },
   "source": [
    "Besides, we should not use the same proxy list for all of your requests, we will check and request new proxies every 2 minutes:\n",
    "\n"
   ]
  },
  {
   "cell_type": "code",
   "execution_count": 9,
   "metadata": {
    "colab": {},
    "colab_type": "code",
    "id": "0dad2608-ca14-4c22-8436-8ce59797ff11"
   },
   "outputs": [],
   "source": [
    "from datetime import datetime\n",
    "last_request_time = datetime.now()\n",
    "current_proxies = []\n",
    "def get_current_proxies():\n",
    "    global last_request_time, current_proxies\n",
    "    # If last request is in the last 2 minutes, do not request proxy list\n",
    "    if (datetime.now() - last_request_time).seconds < 120 and len(current_proxies) > 0:\n",
    "        return current_proxies\n",
    "    # Get new proxy list\n",
    "    current_proxies = get_proxies()\n",
    "    last_request_time = datetime.now()\n",
    "    return current_proxies"
   ]
  },
  {
   "cell_type": "markdown",
   "metadata": {
    "colab_type": "text",
    "id": "02a3053f-c0bc-4d0a-8274-41531b76fc8f"
   },
   "source": [
    "The next function receives a url and return the content of this url. Following the below instruction, complete the function\n",
    "\n"
   ]
  },
  {
   "cell_type": "code",
   "execution_count": 14,
   "metadata": {
    "colab": {},
    "colab_type": "code",
    "id": "986add85-b414-4e9e-a71d-57407c9cc287"
   },
   "outputs": [],
   "source": [
    "def get_content_from_url(url):\n",
    "    global no_crawled_content\n",
    "    ### START CODE HERE\n",
    "    # Repeat until getting content\n",
    "    while True:\n",
    "    # Get list of proxies\n",
    "        proxies = get_current_proxies()\n",
    "        # Pick a random proxy and build proxy dictionary\n",
    "        proxy = proxies[random.randint(0, len(proxies)-1)]\n",
    "        proxy_dict = {\n",
    "             \"http\": \"http://\"+proxy,\n",
    "        }\n",
    "        # Request 'url' with proxy (Should catch error when you request)\n",
    "        try:\n",
    "            response = requests.get(url, headers={'User-Agent':'Mozilla/5.0'}, proxies=proxy_dict)\n",
    "        except ProxyError:\n",
    "            print(\"Cannot connect to proxy\", proxy)\n",
    "            continue\n",
    "        # Check whether response status code is 200\n",
    "        if response.status_code == 200:\n",
    "        # Parse content from response html\n",
    "            no_crawled_content += 1\n",
    "            print(no_crawled_content, \". Crawled\", url)\n",
    "            return url, fulltext(response.text)\n",
    "### END CODE HERE"
   ]
  },
  {
   "cell_type": "markdown",
   "metadata": {
    "colab_type": "text",
    "id": "c1dfcd00-a561-434d-bc70-4edeeefc2127"
   },
   "source": [
    "Test the function with the code below\n",
    "\n"
   ]
  },
  {
   "cell_type": "code",
   "execution_count": 13,
   "metadata": {
    "colab": {},
    "colab_type": "code",
    "id": "27aff095-f1ec-4d05-b920-24600ac2e52d"
   },
   "outputs": [
    {
     "name": "stdout",
     "output_type": "stream",
     "text": [
      "1 . Crawled https://seekingalpha.com/news/3454711-facebook-broke-privacy-laws-exposing-user-data-canada-says\n",
      "2 . Crawled https://seekingalpha.com/news/3454711-facebook-broke-privacy-laws-exposing-user-data-canada-says\n",
      "3 . Crawled https://seekingalpha.com/news/3454711-facebook-broke-privacy-laws-exposing-user-data-canada-says\n",
      "4 . Crawled https://seekingalpha.com/news/3454711-facebook-broke-privacy-laws-exposing-user-data-canada-says\n",
      "5 . Crawled https://seekingalpha.com/news/3454711-facebook-broke-privacy-laws-exposing-user-data-canada-says\n",
      "6 . Crawled https://seekingalpha.com/news/3454711-facebook-broke-privacy-laws-exposing-user-data-canada-says\n",
      "7 . Crawled https://seekingalpha.com/news/3454711-facebook-broke-privacy-laws-exposing-user-data-canada-says\n",
      "8 . Crawled https://seekingalpha.com/news/3454711-facebook-broke-privacy-laws-exposing-user-data-canada-says\n",
      "9 . Crawled https://seekingalpha.com/news/3454711-facebook-broke-privacy-laws-exposing-user-data-canada-says\n",
      "10 . Crawled https://seekingalpha.com/news/3454711-facebook-broke-privacy-laws-exposing-user-data-canada-says\n",
      "11 . Crawled https://seekingalpha.com/news/3454711-facebook-broke-privacy-laws-exposing-user-data-canada-says\n",
      "12 . Crawled https://seekingalpha.com/news/3454711-facebook-broke-privacy-laws-exposing-user-data-canada-says\n",
      "13 . Crawled https://seekingalpha.com/news/3454711-facebook-broke-privacy-laws-exposing-user-data-canada-says\n",
      "14 . Crawled https://seekingalpha.com/news/3454711-facebook-broke-privacy-laws-exposing-user-data-canada-says\n",
      "15 . Crawled https://seekingalpha.com/news/3454711-facebook-broke-privacy-laws-exposing-user-data-canada-says\n",
      "16 . Crawled https://seekingalpha.com/news/3454711-facebook-broke-privacy-laws-exposing-user-data-canada-says\n",
      "17 . Crawled https://seekingalpha.com/news/3454711-facebook-broke-privacy-laws-exposing-user-data-canada-says\n",
      "18 . Crawled https://seekingalpha.com/news/3454711-facebook-broke-privacy-laws-exposing-user-data-canada-says\n",
      "19 . Crawled https://seekingalpha.com/news/3454711-facebook-broke-privacy-laws-exposing-user-data-canada-says\n",
      "20 . Crawled https://seekingalpha.com/news/3454711-facebook-broke-privacy-laws-exposing-user-data-canada-says\n",
      "21 . Crawled https://seekingalpha.com/news/3454711-facebook-broke-privacy-laws-exposing-user-data-canada-says\n",
      "22 . Crawled https://seekingalpha.com/news/3454711-facebook-broke-privacy-laws-exposing-user-data-canada-says\n",
      "23 . Crawled https://seekingalpha.com/news/3454711-facebook-broke-privacy-laws-exposing-user-data-canada-says\n",
      "24 . Crawled https://seekingalpha.com/news/3454711-facebook-broke-privacy-laws-exposing-user-data-canada-says\n",
      "25 . Crawled https://seekingalpha.com/news/3454711-facebook-broke-privacy-laws-exposing-user-data-canada-says\n",
      "26 . Crawled https://seekingalpha.com/news/3454711-facebook-broke-privacy-laws-exposing-user-data-canada-says\n",
      "27 . Crawled https://seekingalpha.com/news/3454711-facebook-broke-privacy-laws-exposing-user-data-canada-says\n",
      "28 . Crawled https://seekingalpha.com/news/3454711-facebook-broke-privacy-laws-exposing-user-data-canada-says\n",
      "29 . Crawled https://seekingalpha.com/news/3454711-facebook-broke-privacy-laws-exposing-user-data-canada-says\n",
      "30 . Crawled https://seekingalpha.com/news/3454711-facebook-broke-privacy-laws-exposing-user-data-canada-says\n",
      "31 . Crawled https://seekingalpha.com/news/3454711-facebook-broke-privacy-laws-exposing-user-data-canada-says\n",
      "32 . Crawled https://seekingalpha.com/news/3454711-facebook-broke-privacy-laws-exposing-user-data-canada-says\n",
      "33 . Crawled https://seekingalpha.com/news/3454711-facebook-broke-privacy-laws-exposing-user-data-canada-says\n",
      "34 . Crawled https://seekingalpha.com/news/3454711-facebook-broke-privacy-laws-exposing-user-data-canada-says\n",
      "35 . Crawled https://seekingalpha.com/news/3454711-facebook-broke-privacy-laws-exposing-user-data-canada-says\n",
      "36 . Crawled https://seekingalpha.com/news/3454711-facebook-broke-privacy-laws-exposing-user-data-canada-says\n",
      "37 . Crawled https://seekingalpha.com/news/3454711-facebook-broke-privacy-laws-exposing-user-data-canada-says\n",
      "38 . Crawled https://seekingalpha.com/news/3454711-facebook-broke-privacy-laws-exposing-user-data-canada-says\n",
      "39 . Crawled https://seekingalpha.com/news/3454711-facebook-broke-privacy-laws-exposing-user-data-canada-says\n",
      "40 . Crawled https://seekingalpha.com/news/3454711-facebook-broke-privacy-laws-exposing-user-data-canada-says\n",
      "41 . Crawled https://seekingalpha.com/news/3454711-facebook-broke-privacy-laws-exposing-user-data-canada-says\n",
      "42 . Crawled https://seekingalpha.com/news/3454711-facebook-broke-privacy-laws-exposing-user-data-canada-says\n",
      "43 . Crawled https://seekingalpha.com/news/3454711-facebook-broke-privacy-laws-exposing-user-data-canada-says\n"
     ]
    },
    {
     "ename": "NameError",
     "evalue": "name 'ProxyError' is not defined",
     "output_type": "error",
     "traceback": [
      "\u001b[0;31m---------------------------------------------------------------------------\u001b[0m",
      "\u001b[0;31mKeyboardInterrupt\u001b[0m                         Traceback (most recent call last)",
      "\u001b[0;32m<ipython-input-12-472d9e0767ee>\u001b[0m in \u001b[0;36mget_content_from_url\u001b[0;34m(url)\u001b[0m\n\u001b[1;32m     14\u001b[0m         \u001b[0;32mtry\u001b[0m\u001b[0;34m:\u001b[0m\u001b[0;34m\u001b[0m\u001b[0;34m\u001b[0m\u001b[0m\n\u001b[0;32m---> 15\u001b[0;31m             \u001b[0mresponse\u001b[0m \u001b[0;34m=\u001b[0m \u001b[0mrequests\u001b[0m\u001b[0;34m.\u001b[0m\u001b[0mget\u001b[0m\u001b[0;34m(\u001b[0m\u001b[0murl\u001b[0m\u001b[0;34m,\u001b[0m \u001b[0mheaders\u001b[0m\u001b[0;34m=\u001b[0m\u001b[0;34m{\u001b[0m\u001b[0;34m'User-Agent'\u001b[0m\u001b[0;34m:\u001b[0m\u001b[0;34m'Mozilla/5.0'\u001b[0m\u001b[0;34m}\u001b[0m\u001b[0;34m,\u001b[0m \u001b[0mproxies\u001b[0m\u001b[0;34m=\u001b[0m\u001b[0mproxy_dict\u001b[0m\u001b[0;34m)\u001b[0m\u001b[0;34m\u001b[0m\u001b[0;34m\u001b[0m\u001b[0m\n\u001b[0m\u001b[1;32m     16\u001b[0m         \u001b[0;32mexcept\u001b[0m \u001b[0mProxyError\u001b[0m\u001b[0;34m:\u001b[0m\u001b[0;34m\u001b[0m\u001b[0;34m\u001b[0m\u001b[0m\n",
      "\u001b[0;32m~/anaconda3/lib/python3.7/site-packages/requests/api.py\u001b[0m in \u001b[0;36mget\u001b[0;34m(url, params, **kwargs)\u001b[0m\n\u001b[1;32m     74\u001b[0m     \u001b[0mkwargs\u001b[0m\u001b[0;34m.\u001b[0m\u001b[0msetdefault\u001b[0m\u001b[0;34m(\u001b[0m\u001b[0;34m'allow_redirects'\u001b[0m\u001b[0;34m,\u001b[0m \u001b[0;32mTrue\u001b[0m\u001b[0;34m)\u001b[0m\u001b[0;34m\u001b[0m\u001b[0;34m\u001b[0m\u001b[0m\n\u001b[0;32m---> 75\u001b[0;31m     \u001b[0;32mreturn\u001b[0m \u001b[0mrequest\u001b[0m\u001b[0;34m(\u001b[0m\u001b[0;34m'get'\u001b[0m\u001b[0;34m,\u001b[0m \u001b[0murl\u001b[0m\u001b[0;34m,\u001b[0m \u001b[0mparams\u001b[0m\u001b[0;34m=\u001b[0m\u001b[0mparams\u001b[0m\u001b[0;34m,\u001b[0m \u001b[0;34m**\u001b[0m\u001b[0mkwargs\u001b[0m\u001b[0;34m)\u001b[0m\u001b[0;34m\u001b[0m\u001b[0;34m\u001b[0m\u001b[0m\n\u001b[0m\u001b[1;32m     76\u001b[0m \u001b[0;34m\u001b[0m\u001b[0m\n",
      "\u001b[0;32m~/anaconda3/lib/python3.7/site-packages/requests/api.py\u001b[0m in \u001b[0;36mrequest\u001b[0;34m(method, url, **kwargs)\u001b[0m\n\u001b[1;32m     59\u001b[0m     \u001b[0;32mwith\u001b[0m \u001b[0msessions\u001b[0m\u001b[0;34m.\u001b[0m\u001b[0mSession\u001b[0m\u001b[0;34m(\u001b[0m\u001b[0;34m)\u001b[0m \u001b[0;32mas\u001b[0m \u001b[0msession\u001b[0m\u001b[0;34m:\u001b[0m\u001b[0;34m\u001b[0m\u001b[0;34m\u001b[0m\u001b[0m\n\u001b[0;32m---> 60\u001b[0;31m         \u001b[0;32mreturn\u001b[0m \u001b[0msession\u001b[0m\u001b[0;34m.\u001b[0m\u001b[0mrequest\u001b[0m\u001b[0;34m(\u001b[0m\u001b[0mmethod\u001b[0m\u001b[0;34m=\u001b[0m\u001b[0mmethod\u001b[0m\u001b[0;34m,\u001b[0m \u001b[0murl\u001b[0m\u001b[0;34m=\u001b[0m\u001b[0murl\u001b[0m\u001b[0;34m,\u001b[0m \u001b[0;34m**\u001b[0m\u001b[0mkwargs\u001b[0m\u001b[0;34m)\u001b[0m\u001b[0;34m\u001b[0m\u001b[0;34m\u001b[0m\u001b[0m\n\u001b[0m\u001b[1;32m     61\u001b[0m \u001b[0;34m\u001b[0m\u001b[0m\n",
      "\u001b[0;32m~/anaconda3/lib/python3.7/site-packages/requests/sessions.py\u001b[0m in \u001b[0;36mrequest\u001b[0;34m(self, method, url, params, data, headers, cookies, files, auth, timeout, allow_redirects, proxies, hooks, stream, verify, cert, json)\u001b[0m\n\u001b[1;32m    532\u001b[0m         \u001b[0msend_kwargs\u001b[0m\u001b[0;34m.\u001b[0m\u001b[0mupdate\u001b[0m\u001b[0;34m(\u001b[0m\u001b[0msettings\u001b[0m\u001b[0;34m)\u001b[0m\u001b[0;34m\u001b[0m\u001b[0;34m\u001b[0m\u001b[0m\n\u001b[0;32m--> 533\u001b[0;31m         \u001b[0mresp\u001b[0m \u001b[0;34m=\u001b[0m \u001b[0mself\u001b[0m\u001b[0;34m.\u001b[0m\u001b[0msend\u001b[0m\u001b[0;34m(\u001b[0m\u001b[0mprep\u001b[0m\u001b[0;34m,\u001b[0m \u001b[0;34m**\u001b[0m\u001b[0msend_kwargs\u001b[0m\u001b[0;34m)\u001b[0m\u001b[0;34m\u001b[0m\u001b[0;34m\u001b[0m\u001b[0m\n\u001b[0m\u001b[1;32m    534\u001b[0m \u001b[0;34m\u001b[0m\u001b[0m\n",
      "\u001b[0;32m~/anaconda3/lib/python3.7/site-packages/requests/sessions.py\u001b[0m in \u001b[0;36msend\u001b[0;34m(self, request, **kwargs)\u001b[0m\n\u001b[1;32m    645\u001b[0m         \u001b[0;31m# Send the request\u001b[0m\u001b[0;34m\u001b[0m\u001b[0;34m\u001b[0m\u001b[0;34m\u001b[0m\u001b[0m\n\u001b[0;32m--> 646\u001b[0;31m         \u001b[0mr\u001b[0m \u001b[0;34m=\u001b[0m \u001b[0madapter\u001b[0m\u001b[0;34m.\u001b[0m\u001b[0msend\u001b[0m\u001b[0;34m(\u001b[0m\u001b[0mrequest\u001b[0m\u001b[0;34m,\u001b[0m \u001b[0;34m**\u001b[0m\u001b[0mkwargs\u001b[0m\u001b[0;34m)\u001b[0m\u001b[0;34m\u001b[0m\u001b[0;34m\u001b[0m\u001b[0m\n\u001b[0m\u001b[1;32m    647\u001b[0m \u001b[0;34m\u001b[0m\u001b[0m\n",
      "\u001b[0;32m~/anaconda3/lib/python3.7/site-packages/requests/adapters.py\u001b[0m in \u001b[0;36msend\u001b[0;34m(self, request, stream, timeout, verify, cert, proxies)\u001b[0m\n\u001b[1;32m    448\u001b[0m                     \u001b[0mretries\u001b[0m\u001b[0;34m=\u001b[0m\u001b[0mself\u001b[0m\u001b[0;34m.\u001b[0m\u001b[0mmax_retries\u001b[0m\u001b[0;34m,\u001b[0m\u001b[0;34m\u001b[0m\u001b[0;34m\u001b[0m\u001b[0m\n\u001b[0;32m--> 449\u001b[0;31m                     \u001b[0mtimeout\u001b[0m\u001b[0;34m=\u001b[0m\u001b[0mtimeout\u001b[0m\u001b[0;34m\u001b[0m\u001b[0;34m\u001b[0m\u001b[0m\n\u001b[0m\u001b[1;32m    450\u001b[0m                 )\n",
      "\u001b[0;32m~/anaconda3/lib/python3.7/site-packages/urllib3/connectionpool.py\u001b[0m in \u001b[0;36murlopen\u001b[0;34m(self, method, url, body, headers, retries, redirect, assert_same_host, timeout, pool_timeout, release_conn, chunked, body_pos, **response_kw)\u001b[0m\n\u001b[1;32m    599\u001b[0m                                                   \u001b[0mbody\u001b[0m\u001b[0;34m=\u001b[0m\u001b[0mbody\u001b[0m\u001b[0;34m,\u001b[0m \u001b[0mheaders\u001b[0m\u001b[0;34m=\u001b[0m\u001b[0mheaders\u001b[0m\u001b[0;34m,\u001b[0m\u001b[0;34m\u001b[0m\u001b[0;34m\u001b[0m\u001b[0m\n\u001b[0;32m--> 600\u001b[0;31m                                                   chunked=chunked)\n\u001b[0m\u001b[1;32m    601\u001b[0m \u001b[0;34m\u001b[0m\u001b[0m\n",
      "\u001b[0;32m~/anaconda3/lib/python3.7/site-packages/urllib3/connectionpool.py\u001b[0m in \u001b[0;36m_make_request\u001b[0;34m(self, conn, method, url, timeout, chunked, **httplib_request_kw)\u001b[0m\n\u001b[1;32m    342\u001b[0m         \u001b[0;32mtry\u001b[0m\u001b[0;34m:\u001b[0m\u001b[0;34m\u001b[0m\u001b[0;34m\u001b[0m\u001b[0m\n\u001b[0;32m--> 343\u001b[0;31m             \u001b[0mself\u001b[0m\u001b[0;34m.\u001b[0m\u001b[0m_validate_conn\u001b[0m\u001b[0;34m(\u001b[0m\u001b[0mconn\u001b[0m\u001b[0;34m)\u001b[0m\u001b[0;34m\u001b[0m\u001b[0;34m\u001b[0m\u001b[0m\n\u001b[0m\u001b[1;32m    344\u001b[0m         \u001b[0;32mexcept\u001b[0m \u001b[0;34m(\u001b[0m\u001b[0mSocketTimeout\u001b[0m\u001b[0;34m,\u001b[0m \u001b[0mBaseSSLError\u001b[0m\u001b[0;34m)\u001b[0m \u001b[0;32mas\u001b[0m \u001b[0me\u001b[0m\u001b[0;34m:\u001b[0m\u001b[0;34m\u001b[0m\u001b[0;34m\u001b[0m\u001b[0m\n",
      "\u001b[0;32m~/anaconda3/lib/python3.7/site-packages/urllib3/connectionpool.py\u001b[0m in \u001b[0;36m_validate_conn\u001b[0;34m(self, conn)\u001b[0m\n\u001b[1;32m    838\u001b[0m         \u001b[0;32mif\u001b[0m \u001b[0;32mnot\u001b[0m \u001b[0mgetattr\u001b[0m\u001b[0;34m(\u001b[0m\u001b[0mconn\u001b[0m\u001b[0;34m,\u001b[0m \u001b[0;34m'sock'\u001b[0m\u001b[0;34m,\u001b[0m \u001b[0;32mNone\u001b[0m\u001b[0;34m)\u001b[0m\u001b[0;34m:\u001b[0m  \u001b[0;31m# AppEngine might not have  `.sock`\u001b[0m\u001b[0;34m\u001b[0m\u001b[0;34m\u001b[0m\u001b[0m\n\u001b[0;32m--> 839\u001b[0;31m             \u001b[0mconn\u001b[0m\u001b[0;34m.\u001b[0m\u001b[0mconnect\u001b[0m\u001b[0;34m(\u001b[0m\u001b[0;34m)\u001b[0m\u001b[0;34m\u001b[0m\u001b[0;34m\u001b[0m\u001b[0m\n\u001b[0m\u001b[1;32m    840\u001b[0m \u001b[0;34m\u001b[0m\u001b[0m\n",
      "\u001b[0;32m~/anaconda3/lib/python3.7/site-packages/urllib3/connection.py\u001b[0m in \u001b[0;36mconnect\u001b[0;34m(self)\u001b[0m\n\u001b[1;32m    300\u001b[0m         \u001b[0;31m# Add certificate verification\u001b[0m\u001b[0;34m\u001b[0m\u001b[0;34m\u001b[0m\u001b[0;34m\u001b[0m\u001b[0m\n\u001b[0;32m--> 301\u001b[0;31m         \u001b[0mconn\u001b[0m \u001b[0;34m=\u001b[0m \u001b[0mself\u001b[0m\u001b[0;34m.\u001b[0m\u001b[0m_new_conn\u001b[0m\u001b[0;34m(\u001b[0m\u001b[0;34m)\u001b[0m\u001b[0;34m\u001b[0m\u001b[0;34m\u001b[0m\u001b[0m\n\u001b[0m\u001b[1;32m    302\u001b[0m         \u001b[0mhostname\u001b[0m \u001b[0;34m=\u001b[0m \u001b[0mself\u001b[0m\u001b[0;34m.\u001b[0m\u001b[0mhost\u001b[0m\u001b[0;34m\u001b[0m\u001b[0;34m\u001b[0m\u001b[0m\n",
      "\u001b[0;32m~/anaconda3/lib/python3.7/site-packages/urllib3/connection.py\u001b[0m in \u001b[0;36m_new_conn\u001b[0;34m(self)\u001b[0m\n\u001b[1;32m    158\u001b[0m             conn = connection.create_connection(\n\u001b[0;32m--> 159\u001b[0;31m                 (self._dns_host, self.port), self.timeout, **extra_kw)\n\u001b[0m\u001b[1;32m    160\u001b[0m \u001b[0;34m\u001b[0m\u001b[0m\n",
      "\u001b[0;32m~/anaconda3/lib/python3.7/site-packages/urllib3/util/connection.py\u001b[0m in \u001b[0;36mcreate_connection\u001b[0;34m(address, timeout, source_address, socket_options)\u001b[0m\n\u001b[1;32m     69\u001b[0m                 \u001b[0msock\u001b[0m\u001b[0;34m.\u001b[0m\u001b[0mbind\u001b[0m\u001b[0;34m(\u001b[0m\u001b[0msource_address\u001b[0m\u001b[0;34m)\u001b[0m\u001b[0;34m\u001b[0m\u001b[0;34m\u001b[0m\u001b[0m\n\u001b[0;32m---> 70\u001b[0;31m             \u001b[0msock\u001b[0m\u001b[0;34m.\u001b[0m\u001b[0mconnect\u001b[0m\u001b[0;34m(\u001b[0m\u001b[0msa\u001b[0m\u001b[0;34m)\u001b[0m\u001b[0;34m\u001b[0m\u001b[0;34m\u001b[0m\u001b[0m\n\u001b[0m\u001b[1;32m     71\u001b[0m             \u001b[0;32mreturn\u001b[0m \u001b[0msock\u001b[0m\u001b[0;34m\u001b[0m\u001b[0;34m\u001b[0m\u001b[0m\n",
      "\u001b[0;31mKeyboardInterrupt\u001b[0m: ",
      "\nDuring handling of the above exception, another exception occurred:\n",
      "\u001b[0;31mNameError\u001b[0m                                 Traceback (most recent call last)",
      "\u001b[0;32m<ipython-input-13-11eb3d429de4>\u001b[0m in \u001b[0;36m<module>\u001b[0;34m\u001b[0m\n\u001b[1;32m      1\u001b[0m \u001b[0mno_crawled_content\u001b[0m \u001b[0;34m=\u001b[0m \u001b[0;36m0\u001b[0m\u001b[0;34m\u001b[0m\u001b[0;34m\u001b[0m\u001b[0m\n\u001b[0;32m----> 2\u001b[0;31m \u001b[0mget_content_from_url\u001b[0m\u001b[0;34m(\u001b[0m\u001b[0;34m\"https://seekingalpha.com/news/3454711-facebook-broke-privacy-laws-exposing-user-data-canada-says\"\u001b[0m\u001b[0;34m)\u001b[0m\u001b[0;34m\u001b[0m\u001b[0;34m\u001b[0m\u001b[0m\n\u001b[0m",
      "\u001b[0;32m<ipython-input-12-472d9e0767ee>\u001b[0m in \u001b[0;36mget_content_from_url\u001b[0;34m(url)\u001b[0m\n\u001b[1;32m     14\u001b[0m         \u001b[0;32mtry\u001b[0m\u001b[0;34m:\u001b[0m\u001b[0;34m\u001b[0m\u001b[0;34m\u001b[0m\u001b[0m\n\u001b[1;32m     15\u001b[0m             \u001b[0mresponse\u001b[0m \u001b[0;34m=\u001b[0m \u001b[0mrequests\u001b[0m\u001b[0;34m.\u001b[0m\u001b[0mget\u001b[0m\u001b[0;34m(\u001b[0m\u001b[0murl\u001b[0m\u001b[0;34m,\u001b[0m \u001b[0mheaders\u001b[0m\u001b[0;34m=\u001b[0m\u001b[0;34m{\u001b[0m\u001b[0;34m'User-Agent'\u001b[0m\u001b[0;34m:\u001b[0m\u001b[0;34m'Mozilla/5.0'\u001b[0m\u001b[0;34m}\u001b[0m\u001b[0;34m,\u001b[0m \u001b[0mproxies\u001b[0m\u001b[0;34m=\u001b[0m\u001b[0mproxy_dict\u001b[0m\u001b[0;34m)\u001b[0m\u001b[0;34m\u001b[0m\u001b[0;34m\u001b[0m\u001b[0m\n\u001b[0;32m---> 16\u001b[0;31m         \u001b[0;32mexcept\u001b[0m \u001b[0mProxyError\u001b[0m\u001b[0;34m:\u001b[0m\u001b[0;34m\u001b[0m\u001b[0;34m\u001b[0m\u001b[0m\n\u001b[0m\u001b[1;32m     17\u001b[0m             \u001b[0mprint\u001b[0m\u001b[0;34m(\u001b[0m\u001b[0;34m\"Cannot connect to proxy\"\u001b[0m\u001b[0;34m,\u001b[0m \u001b[0mproxy\u001b[0m\u001b[0;34m)\u001b[0m\u001b[0;34m\u001b[0m\u001b[0;34m\u001b[0m\u001b[0m\n\u001b[1;32m     18\u001b[0m             \u001b[0;32mcontinue\u001b[0m\u001b[0;34m\u001b[0m\u001b[0;34m\u001b[0m\u001b[0m\n",
      "\u001b[0;31mNameError\u001b[0m: name 'ProxyError' is not defined"
     ]
    }
   ],
   "source": [
    "no_crawled_content = 0\n",
    "get_content_from_url(\"https://seekingalpha.com/news/3454711-facebook-broke-privacy-laws-exposing-user-data-canada-says\")"
   ]
  },
  {
   "cell_type": "markdown",
   "metadata": {
    "colab_type": "text",
    "id": "fba95986-cd43-431a-a04b-121d328cad11"
   },
   "source": [
    "# Crawling content from urls with multi-thread\n",
    "\n",
    "We will use the\n",
    "\n"
   ]
  },
  {
   "cell_type": "code",
   "execution_count": null,
   "metadata": {
    "colab": {},
    "colab_type": "code",
    "id": "fef22eb1-d9a6-49d4-b6bf-053186b64f59"
   },
   "outputs": [],
   "source": [
    "'''\n",
    "Dataset [Seeking Alpha news urls] is mounted\n",
    "and stored in [input/seeking-alpha-news-urls-5cc65ca5cd14d00011a84326] of current machine.\n",
    "\n",
    "Please check your just-mounted dataset by running\n",
    "bellow command:\n",
    "# '''\n",
    "\n",
    "# import os\n",
    "# data_path_326 = \"input/seeking-alpha-news-urls-5cc65ca5cd14d00011a84326\"\n",
    "# # Use \"data_path_326\" as the list of items on this dataset\n",
    "\n",
    "# os.listdir(data_path_326)"
   ]
  },
  {
   "cell_type": "markdown",
   "metadata": {
    "colab_type": "text",
    "id": "0ebca035-5435-4961-afe7-84bfec5881c0"
   },
   "source": [
    "Get the csv path:\n",
    "\n"
   ]
  },
  {
   "cell_type": "code",
   "execution_count": null,
   "metadata": {
    "colab": {},
    "colab_type": "code",
    "id": "7cbcb9ee-1932-4937-9fa8-7beea3281852"
   },
   "outputs": [],
   "source": [
    "# csv_path = os.path.join(data_path_326, 'seeking_alpha.csv')"
   ]
  },
  {
   "cell_type": "markdown",
   "metadata": {
    "colab_type": "text",
    "id": "c649f564-d49c-4218-9e92-0d892c7895c4"
   },
   "source": [
    "Read the list of urls\n",
    "\n"
   ]
  },
  {
   "cell_type": "code",
   "execution_count": null,
   "metadata": {},
   "outputs": [],
   "source": [
    "!ls"
   ]
  },
  {
   "cell_type": "code",
   "execution_count": 15,
   "metadata": {
    "colab": {},
    "colab_type": "code",
    "id": "1dd68976-4e5d-4c74-866f-95c395fcdbd7"
   },
   "outputs": [],
   "source": [
    "import pandas as pd\n",
    "import csv"
   ]
  },
  {
   "cell_type": "code",
   "execution_count": 16,
   "metadata": {
    "colab": {},
    "colab_type": "code",
    "id": "b975a417-1f32-4fd8-ac49-39e8687abd12"
   },
   "outputs": [
    {
     "name": "stderr",
     "output_type": "stream",
     "text": [
      "b'Skipping line 6: expected 4 fields, saw 5\\nSkipping line 9: expected 4 fields, saw 7\\nSkipping line 102: expected 4 fields, saw 5\\nSkipping line 130: expected 4 fields, saw 5\\nSkipping line 265: expected 4 fields, saw 5\\nSkipping line 490: expected 4 fields, saw 5\\nSkipping line 505: expected 4 fields, saw 5\\nSkipping line 525: expected 4 fields, saw 5\\nSkipping line 564: expected 4 fields, saw 6\\nSkipping line 570: expected 4 fields, saw 7\\nSkipping line 573: expected 4 fields, saw 5\\nSkipping line 578: expected 4 fields, saw 5\\nSkipping line 594: expected 4 fields, saw 5\\nSkipping line 605: expected 4 fields, saw 5\\nSkipping line 617: expected 4 fields, saw 5\\nSkipping line 625: expected 4 fields, saw 5\\nSkipping line 634: expected 4 fields, saw 5\\nSkipping line 644: expected 4 fields, saw 5\\nSkipping line 767: expected 4 fields, saw 5\\nSkipping line 780: expected 4 fields, saw 5\\nSkipping line 802: expected 4 fields, saw 5\\nSkipping line 829: expected 4 fields, saw 5\\nSkipping line 844: expected 4 fields, saw 5\\nSkipping line 862: expected 4 fields, saw 5\\nSkipping line 894: expected 4 fields, saw 5\\nSkipping line 900: expected 4 fields, saw 5\\nSkipping line 916: expected 4 fields, saw 5\\nSkipping line 950: expected 4 fields, saw 5\\nSkipping line 951: expected 4 fields, saw 5\\nSkipping line 1046: expected 4 fields, saw 5\\nSkipping line 1097: expected 4 fields, saw 5\\nSkipping line 1109: expected 4 fields, saw 7\\nSkipping line 1169: expected 4 fields, saw 5\\nSkipping line 1171: expected 4 fields, saw 6\\nSkipping line 1173: expected 4 fields, saw 5\\nSkipping line 1174: expected 4 fields, saw 5\\nSkipping line 1175: expected 4 fields, saw 5\\nSkipping line 1182: expected 4 fields, saw 6\\nSkipping line 1188: expected 4 fields, saw 6\\nSkipping line 1199: expected 4 fields, saw 6\\nSkipping line 1205: expected 4 fields, saw 8\\nSkipping line 1218: expected 4 fields, saw 6\\nSkipping line 1224: expected 4 fields, saw 6\\nSkipping line 1238: expected 4 fields, saw 5\\nSkipping line 1245: expected 4 fields, saw 5\\nSkipping line 1257: expected 4 fields, saw 5\\nSkipping line 1263: expected 4 fields, saw 5\\nSkipping line 1280: expected 4 fields, saw 5\\nSkipping line 1281: expected 4 fields, saw 6\\nSkipping line 1282: expected 4 fields, saw 6\\nSkipping line 1324: expected 4 fields, saw 5\\nSkipping line 1337: expected 4 fields, saw 5\\nSkipping line 1384: expected 4 fields, saw 5\\nSkipping line 1391: expected 4 fields, saw 5\\nSkipping line 1394: expected 4 fields, saw 5\\nSkipping line 1396: expected 4 fields, saw 5\\nSkipping line 1416: expected 4 fields, saw 5\\nSkipping line 1443: expected 4 fields, saw 5\\nSkipping line 1457: expected 4 fields, saw 6\\nSkipping line 1458: expected 4 fields, saw 5\\nSkipping line 1460: expected 4 fields, saw 5\\nSkipping line 1476: expected 4 fields, saw 5\\nSkipping line 1503: expected 4 fields, saw 5\\nSkipping line 1508: expected 4 fields, saw 5\\nSkipping line 1551: expected 4 fields, saw 6\\nSkipping line 1581: expected 4 fields, saw 5\\nSkipping line 1597: expected 4 fields, saw 5\\nSkipping line 1610: expected 4 fields, saw 6\\nSkipping line 1615: expected 4 fields, saw 5\\nSkipping line 1634: expected 4 fields, saw 7\\nSkipping line 1657: expected 4 fields, saw 6\\nSkipping line 1663: expected 4 fields, saw 5\\nSkipping line 1678: expected 4 fields, saw 6\\nSkipping line 1679: expected 4 fields, saw 5\\nSkipping line 1687: expected 4 fields, saw 6\\nSkipping line 1698: expected 4 fields, saw 6\\nSkipping line 1699: expected 4 fields, saw 6\\nSkipping line 1701: expected 4 fields, saw 6\\nSkipping line 1702: expected 4 fields, saw 5\\nSkipping line 1706: expected 4 fields, saw 6\\nSkipping line 1710: expected 4 fields, saw 5\\nSkipping line 1712: expected 4 fields, saw 5\\nSkipping line 1732: expected 4 fields, saw 5\\nSkipping line 1744: expected 4 fields, saw 6\\nSkipping line 1746: expected 4 fields, saw 5\\n'\n"
     ]
    },
    {
     "data": {
      "text/html": [
       "<div>\n",
       "<style scoped>\n",
       "    .dataframe tbody tr th:only-of-type {\n",
       "        vertical-align: middle;\n",
       "    }\n",
       "\n",
       "    .dataframe tbody tr th {\n",
       "        vertical-align: top;\n",
       "    }\n",
       "\n",
       "    .dataframe thead th {\n",
       "        text-align: right;\n",
       "    }\n",
       "</style>\n",
       "<table border=\"1\" class=\"dataframe\">\n",
       "  <thead>\n",
       "    <tr style=\"text-align: right;\">\n",
       "      <th></th>\n",
       "      <th>url</th>\n",
       "      <th>title</th>\n",
       "      <th>stock</th>\n",
       "      <th>timestamp</th>\n",
       "    </tr>\n",
       "  </thead>\n",
       "  <tbody>\n",
       "    <tr>\n",
       "      <th>0</th>\n",
       "      <td>https://seekingalpha.com/news/3467965-google-m...</td>\n",
       "      <td>Google Maps adds popular menu items, GOOGL</td>\n",
       "      <td>1559233807</td>\n",
       "      <td>NaN</td>\n",
       "    </tr>\n",
       "    <tr>\n",
       "      <th>1</th>\n",
       "      <td>https://seekingalpha.com/news/3467751-google-b...</td>\n",
       "      <td>Google bans apps that facilitate marijuana sal...</td>\n",
       "      <td>1559208044</td>\n",
       "      <td>NaN</td>\n",
       "    </tr>\n",
       "    <tr>\n",
       "      <th>2</th>\n",
       "      <td>https://seekingalpha.com/news/3467360-google-t...</td>\n",
       "      <td>Google temps outnumber full-time workers - NYT...</td>\n",
       "      <td>1559119152</td>\n",
       "      <td>NaN</td>\n",
       "    </tr>\n",
       "    <tr>\n",
       "      <th>3</th>\n",
       "      <td>https://seekingalpha.com/news/3466946-google-i...</td>\n",
       "      <td>Google to invest %u20AC600M in Finnish data ce...</td>\n",
       "      <td>1558949797</td>\n",
       "      <td>NaN</td>\n",
       "    </tr>\n",
       "    <tr>\n",
       "      <th>4</th>\n",
       "      <td>https://seekingalpha.com/news/3466438-google-a...</td>\n",
       "      <td>Google Assistant</td>\n",
       "      <td>Pay coming to NYC transit, GOOGL</td>\n",
       "      <td>1.558617e+09</td>\n",
       "    </tr>\n",
       "  </tbody>\n",
       "</table>\n",
       "</div>"
      ],
      "text/plain": [
       "                                                 url  \\\n",
       "0  https://seekingalpha.com/news/3467965-google-m...   \n",
       "1  https://seekingalpha.com/news/3467751-google-b...   \n",
       "2  https://seekingalpha.com/news/3467360-google-t...   \n",
       "3  https://seekingalpha.com/news/3466946-google-i...   \n",
       "4  https://seekingalpha.com/news/3466438-google-a...   \n",
       "\n",
       "                                               title  \\\n",
       "0         Google Maps adds popular menu items, GOOGL   \n",
       "1  Google bans apps that facilitate marijuana sal...   \n",
       "2  Google temps outnumber full-time workers - NYT...   \n",
       "3  Google to invest %u20AC600M in Finnish data ce...   \n",
       "4                                   Google Assistant   \n",
       "\n",
       "                               stock     timestamp  \n",
       "0                         1559233807           NaN  \n",
       "1                         1559208044           NaN  \n",
       "2                         1559119152           NaN  \n",
       "3                         1558949797           NaN  \n",
       "4   Pay coming to NYC transit, GOOGL  1.558617e+09  "
      ]
     },
     "execution_count": 16,
     "metadata": {},
     "output_type": "execute_result"
    }
   ],
   "source": [
    "url_df = pd.read_csv('googl.csv',escapechar='\\\"', delimiter=',', quoting=csv.QUOTE_NONE, error_bad_lines=False,encoding = 'unicode_escape')\n",
    "url_df.head()"
   ]
  },
  {
   "cell_type": "markdown",
   "metadata": {
    "colab_type": "text",
    "id": "126c1ce9-f643-4359-b036-71898ace7ae8"
   },
   "source": [
    "We will add one more column to the dataframe called\n",
    "\n"
   ]
  },
  {
   "cell_type": "code",
   "execution_count": 17,
   "metadata": {},
   "outputs": [],
   "source": [
    "from multiprocessing.dummy import Pool as ThreadPool"
   ]
  },
  {
   "cell_type": "code",
   "execution_count": null,
   "metadata": {
    "colab": {},
    "colab_type": "code",
    "id": "38220207-0736-4b38-bfaa-2eaf125dea20"
   },
   "outputs": [],
   "source": [
    "\n",
    "pool = ThreadPool(8)\n",
    "results = pool.map(get_content_from_url, [\"https://seekingalpha.com/news/3454711-facebook-broke-privacy-laws-exposing-user-data-canada-says\"])\n",
    "pool.close()\n",
    "pool.join()"
   ]
  },
  {
   "cell_type": "code",
   "execution_count": null,
   "metadata": {
    "colab": {},
    "colab_type": "code",
    "id": "59960132-e26b-4722-85fc-8443d9e532b9",
    "scrolled": true
   },
   "outputs": [
    {
     "name": "stdout",
     "output_type": "stream",
     "text": [
      "1 . Crawled https://seekingalpha.com/news/3467965-google-maps-adds-popular-menu-items\n",
      "2 . Crawled https://seekingalpha.com/news/3455584-watch-alphabets-q1-print\n",
      "3 . Crawled https://seekingalpha.com/news/3445376-googles-stadia-amd-cpu\n",
      "4 . Crawled https://seekingalpha.com/news/3448638-google-pulls-plug-ai-ethics-board\n",
      "56 . Crawled https://seekingalpha.com/news/3442261-google-team-shift-raises-hardware-questions-report\n",
      "7 . Crawled https://seekingalpha.com/news/3420413-canaccord-ups-alphabet-modest-amazon-competition\n",
      "8 . Crawled  . Crawled https://seekingalpha.com/news/3412762-google-ceo-will-testify-congress-next-week\n",
      "https://seekingalpha.com/news/3425764-google-turns-supreme-court-oracle-case\n",
      "9 . Crawled https://seekingalpha.com/news/3432214-shell-invests-alphabets-wind-power-venture\n",
      "10 . Crawled https://seekingalpha.com/news/3450612-eu-looking-googles-tax-deal-bloomberg\n",
      "1112 . Crawled https://seekingalpha.com/news/3465407-google-launches-999-ar-headset\n",
      " 13 . Crawled https://seekingalpha.com/news/3423444-youtube-bans-bird-box-challenge\n",
      "14 . Crawled https://seekingalpha.com/news/3392016-google-staff-explored-tweaking-search-functions\n",
      "15 . Crawled https://seekingalpha.com/news/3415012-guggenheim-starts-alphabet-buy\n",
      ". Crawled16 . Crawled https://seekingalpha.com/news/3439218-hulu-live-tv-hitting-2m-customer-mark-moving-second-place\n",
      " https://seekingalpha.com/news/3434823-hedge-funds-loaded-tech-shares\n",
      "17 . Crawled https://seekingalpha.com/news/3393557-google-ceo-will-meet-u-s-lawmakers\n",
      "18 . Crawled https://seekingalpha.com/news/3382604-alphabet-invests-375m-obamacares-startup\n",
      "1920 21 . Crawled https://seekingalpha.com/news/3386453-morgan-stanley-gives-alphabet-street-high-target-sees-175b-waymo\n",
      " . Crawled . Crawled 22 . Crawled https://seekingalpha.com/news/3384834-mkm-raises-alphabet-22-percent-upside\n",
      "https://seekingalpha.com/news/3429263-alphabet-beats-1_91-beats-revenue23 . Crawled https://seekingalpha.com/news/3411628-former-google-cloud-head-internal-clashes\n",
      "\n",
      "https://seekingalpha.com/news/3395875-google-drops-race-10b-pentagon-cloud-contract\n",
      "24 . Crawled https://seekingalpha.com/news/3389789-google-will-invest-140m-chile-data-center-expansion\n",
      "25 . Crawled https://seekingalpha.com/news/3417462-russia-disinformation-report-calls-big-tech\n",
      "26 . Crawled https://seekingalpha.com/news/3397764-google-changes-eu-app-bundling-5b-fine\n",
      "27 . Crawled https://seekingalpha.com/news/3395184-u-s-vp-pence-urges-google-end-censored-search-project\n",
      "28 . Crawled https://seekingalpha.com/news/3387643-study-telecoms-throttling-traffic-top-video-apps\n",
      "29 . Crawled https://seekingalpha.com/news/3404825-googles-u-s-public-policy-head-stepping\n",
      "30 . Crawled https://seekingalpha.com/news/3408719-google-challenges-amazon-east-coast-talent\n",
      "31 . Crawled https://seekingalpha.com/news/3460106-google-launches-399-pixel-3a\n",
      "32 . Crawled https://seekingalpha.com/filing/4211526\n",
      "33 . Crawled https://seekingalpha.com/news/3382109-wsj-india-looks-level-playing-field-u-s-tech-giants\n",
      "34 . Crawled https://seekingalpha.com/news/3396119-google-files-appeal-5b-eu-fine\n",
      "35 . Crawled https://seekingalpha.com/news/3382109-wsj-india-looks-level-playing-field-u-s-tech-giants\n",
      "36 . Crawled https://seekingalpha.com/news/3451957-youtube-returning-amazon-products\n",
      "37 . Crawled https://seekingalpha.com/news/3447805-youtube-execs-ignored-toxic-content-concerns-bloomberg\n",
      "38 . Crawled https://seekingalpha.com/news/3387636-analyst-kuo-expects-500-percent-fod-growth-next-year\n",
      "39 . Crawled https://seekingalpha.com/news/3424466-google-fined-50m-french-regulator-new-european-privacy-rule\n",
      "40 . Crawled https://seekingalpha.com/news/3397691-report-facebook-plans-camera-device-tvs\n",
      "41 . Crawled https://seekingalpha.com/news/3384493-google-fit-relaunch-focuses-coaching-heart-health\n",
      "42 . Crawled https://seekingalpha.com/news/3391914-google-tells-u-s-senators-developers-can-still-scan-gmail\n",
      "43 . Crawled https://seekingalpha.com/news/3420310-immersion-plus-11_6-percent-google-haptics-deal\n",
      "44 45 . Crawled https://seekingalpha.com/news/3381672-google-talks-bring-outdoor-ads-germany\n",
      ". Crawled https://seekingalpha.com/news/3412158-baird-sees-alphabet-cloud-m\n",
      "46 . Crawled https://seekingalpha.com/news/3450061-dutch-launch-apple-antitrust-probe\n",
      "47 . Crawled https://seekingalpha.com/news/3467360-google-temps-outnumber-full-time-workers-nyt\n",
      "48 . Crawled https://marketrealist.com/2019/05/why-google-is-refunding-some-advertisers?utm_source=seeking-alpha-headline&utm_medium=feed&utm_content=main_permalink&utm_campaign=why-google-is-refunding-some-advertisers\n",
      "49 . Crawled https://seekingalpha.com/news/3401755-samsungs-premium-phone-overhaul-involves-verizon-google\n",
      "50 . Crawled https://seekingalpha.com/news/3428885-verily-working-health-tracking-shoes\n",
      "51 . Crawled https://seekingalpha.com/news/3391115-appeals-court-backs-copyright-royalty-boards-decisions\n",
      "52 . Crawled https://seekingalpha.com/news/3460102-google-nest-hub-max-coming-summer\n",
      "53 . Crawled https://seekingalpha.com/news/3438664-youtube-pulls-comments-minor-videos\n",
      "5455 . Crawled https://seekingalpha.com/news/3455124-alphabet-q1-2019-earnings-preview\n",
      " . Crawled https://seekingalpha.com/news/3445241-youtube-exits-hollywood-apple-goes-show-business\n",
      "56 . Crawled https://seekingalpha.com/news/3417451-goldman-sachs-makes-defensive-picks\n",
      "57 . Crawled https://seekingalpha.com/news/3465400-former-apple-consumer-chip-engineers-exit-google-report\n",
      "58 . Crawled https://seekingalpha.com/news/3441987-news-corp-pushing-google-breakup-eyeing-mergermarket-buy\n",
      "59 . Crawled https://seekingalpha.com/news/3467751-google-bans-apps-facilitate-marijuana-sales\n",
      "60 . Crawled https://seekingalpha.com/news/3447927-google-sets-employee-benefits-contractors\n",
      "61 . Crawled https://seekingalpha.com/news/3450125-google-loses-cdo-startup\n",
      "62 . Crawled https://seekingalpha.com/news/3434619-apples-q4-homepod-shipments-grew-45-percent\n",
      "63 . Crawled https://seekingalpha.com/news/3423132-google-owes-taxes-loon-creates-board\n",
      "6465  . Crawled https://seekingalpha.com/news/3411473-dexcom-giving-250m-stock-verily-amended-license-deal. Crawled https://seekingalpha.com/news/3432065-india-antitrust-watchdog-investigates-google\n",
      "\n",
      "66 . Crawled https://seekingalpha.com/news/3414759-france-will-tax-digital-giants-2019\n",
      "67 . Crawled https://seekingalpha.com/news/3420310-immersion-plus-11_6-percent-google-haptics-deal\n",
      "68 . Crawled https://seekingalpha.com/news/3393150-ex-google-scientist-details-objections-china-effort\n",
      "69 . Crawled https://seekingalpha.com/news/3397691-report-facebook-plans-camera-device-tvs\n",
      "70 . Crawled https://seekingalpha.com/news/3395607-report-googles-pichai-quietly-met-pentagon\n",
      "71 . Crawled https://seekingalpha.com/news/3408581-instagram-spurred-citrons-left-cover-facebook-short\n",
      "72 . Crawled https://seekingalpha.com/news/3425440-ft-microsoft-bing-blocked-china\n",
      "73 . Crawled https://seekingalpha.com/news/3395847-cnbc-advertisers-moving-hundreds-millions-google-amazon\n",
      "74 . Crawled https://seekingalpha.com/news/3404154-sonos-delays-google-assistant-integration-2019\n",
      "75 . Crawled https://seekingalpha.com/news/3389618-european-parliament-backs-tougher-copyright-rules\n",
      "7677 . Crawled https://seekingalpha.com/news/3391914-google-tells-u-s-senators-developers-can-still-scan-gmail\n",
      " . Crawled https://seekingalpha.com/news/3412637-youtube-make-new-originals-free-users\n",
      "78 79. Crawled . Crawled  https://seekingalpha.com/news/3382556-jana-gets-back-facebook-discloses-stakes-alphabet-wells-fargohttps://seekingalpha.com/news/3395063-report-doj-considering-google-antitrust-investigation\n",
      "\n",
      "80 . Crawled https://seekingalpha.com/news/3386338-google-ceo-criticized-declining-testify\n",
      "81 . Crawled https://seekingalpha.com/news/3387636-analyst-kuo-expects-500-percent-fod-growth-next-year\n",
      "82 . Crawled https://seekingalpha.com/news/3384493-google-fit-relaunch-focuses-coaching-heart-health\n",
      "83 . Crawled https://seekingalpha.com/news/3412543-ftc-hearing-sees-call-regulating-facebook-google\n",
      "84 . Crawled https://seekingalpha.com/news/3412543-ftc-hearing-sees-call-regulating-facebook-google\n",
      "85 . Crawled https://seekingalpha.com/news/3467751-google-bans-apps-facilitate-marijuana-sales\n",
      "86 . Crawled https://seekingalpha.com/news/3455124-alphabet-q1-2019-earnings-preview\n"
     ]
    },
    {
     "name": "stdout",
     "output_type": "stream",
     "text": [
      "87 . Crawled https://seekingalpha.com/news/3447927-google-sets-employee-benefits-contractors\n",
      "88 . Crawled https://seekingalpha.com/news/3423132-google-owes-taxes-loon-creates-board\n",
      "89 . Crawled https://seekingalpha.com/news/3450125-google-loses-cdo-startup\n",
      "90 . Crawled https://seekingalpha.com/news/3425440-ft-microsoft-bing-blocked-china\n",
      "91 . Crawled 92 . Crawled https://seekingalpha.com/news/3445241-youtube-exits-hollywood-apple-goes-show-businesshttps://seekingalpha.com/news/3449736-discovery-youtube-reach-deal-live-demand-programs-updated93 \n",
      ". Crawled\n",
      " https://seekingalpha.com/news/3420310-immersion-plus-11_6-percent-google-haptics-deal\n",
      "94 . Crawled https://seekingalpha.com/news/3417164-google-shopping-comes-india\n",
      "95 96 . Crawled https://seekingalpha.com/news/3412637-youtube-make-new-originals-free-users\n",
      "97 . Crawled98 . Crawled https://seekingalpha.com/news/3386254-trump-tech-giants-better-careful\n",
      ". Crawled https://seekingalpha.com/news/3391914-google-tells-u-s-senators-developers-can-still-scan-gmail99 \n",
      " https://seekingalpha.com/news/3465400-former-apple-consumer-chip-engineers-exit-google-report100\n",
      ". Crawled  https://seekingalpha.com/news/3432065-india-antitrust-watchdog-investigates-google\n",
      ". Crawled https://seekingalpha.com/news/3438664-youtube-pulls-comments-minor-videos\n",
      "101 . Crawled https://seekingalpha.com/news/3441987-news-corp-pushing-google-breakup-eyeing-mergermarket-buy\n",
      "102 . Crawled https://seekingalpha.com/news/3393150-ex-google-scientist-details-objections-china-effort\n",
      "103 . Crawled https://seekingalpha.com/news/3414759-france-will-tax-digital-giants-2019\n",
      "104 . Crawled https://seekingalpha.com/news/3434619-apples-q4-homepod-shipments-grew-45-percent\n",
      "105106107 . Crawled https://seekingalpha.com/news/3397097-google-considering-variety-options-china\n",
      " . Crawled  https://seekingalpha.com/news/3431979-calls-regulating-online-news-content\n",
      ". Crawled https://seekingalpha.com/news/3394820-google-confirms-october-9-preorders-pixel-3\n",
      "108 . Crawled https://seekingalpha.com/news/3431979-calls-regulating-online-news-content\n",
      "109 . Crawled https://seekingalpha.com/news/3382556-jana-gets-back-facebook-discloses-stakes-alphabet-wells-fargo\n",
      "110 . Crawled https://seekingalpha.com/news/3386338-google-ceo-criticized-declining-testify\n"
     ]
    }
   ],
   "source": [
    "no_crawled_content = 0\n",
    "pool = ThreadPool(32)\n",
    "results = pool.map(get_content_from_url, list(url_df.url))\n",
    "pool.close() \n",
    "pool.join()"
   ]
  },
  {
   "cell_type": "code",
   "execution_count": null,
   "metadata": {},
   "outputs": [],
   "source": [
    "results.to_csv('googlnews.csv')"
   ]
  },
  {
   "cell_type": "markdown",
   "metadata": {
    "colab_type": "text",
    "id": "1eda6ebc-0cda-4aa8-ad1f-d0b779bf6e05"
   },
   "source": [
    "The crawling task is quite a bit slow, you can wait up to 24 hours until it finishes crawling all things (~8k articles).\n",
    "\n",
    "\n",
    "\n"
   ]
  }
 ],
 "metadata": {
  "colab": {
   "name": "Crawl content from urls.ipynb",
   "provenance": [],
   "version": "0.3.2"
  },
  "kernelspec": {
   "display_name": "Python 3",
   "language": "python",
   "name": "python3"
  },
  "language_info": {
   "codemirror_mode": {
    "name": "ipython",
    "version": 3
   },
   "file_extension": ".py",
   "mimetype": "text/x-python",
   "name": "python",
   "nbconvert_exporter": "python",
   "pygments_lexer": "ipython3",
   "version": "3.7.1"
  }
 },
 "nbformat": 4,
 "nbformat_minor": 1
}
